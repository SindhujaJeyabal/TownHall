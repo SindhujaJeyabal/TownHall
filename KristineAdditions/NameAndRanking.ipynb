{
 "metadata": {
  "name": "",
  "signature": "sha256:1fc4119fc91a09029a11bf9f32821d229d169d5c0a38aaea4633076f64ddda9f"
 },
 "nbformat": 3,
 "nbformat_minor": 0,
 "worksheets": [
  {
   "cells": [
    {
     "cell_type": "code",
     "collapsed": false,
     "input": [
      "from nltk.corpus import names,wordnet,movie_reviews\n",
      "from nltk.tokenize import word_tokenize\n",
      "from nltk.classify import NaiveBayesClassifier\n",
      "from random import shuffle\n",
      "from bs4 import BeautifulSoup\n",
      "import requests,re,string,os\n",
      "import nltk\n",
      "from collections import defaultdict\n",
      "import pickle"
     ],
     "language": "python",
     "metadata": {},
     "outputs": [],
     "prompt_number": 39
    },
    {
     "cell_type": "markdown",
     "metadata": {},
     "source": [
      "##Scrape Surnames from http://www.surnamedb.com/Surname"
     ]
    },
    {
     "cell_type": "code",
     "collapsed": false,
     "input": [
      "base = \"http://www.surnamedb.com/Surname\"\n",
      "query = \"?alpha=\" #L"
     ],
     "language": "python",
     "metadata": {},
     "outputs": [],
     "prompt_number": 150
    },
    {
     "cell_type": "code",
     "collapsed": false,
     "input": [
      "html= BeautifulSoup(requests.get('http://www.surnamedb.com/Surname').text)"
     ],
     "language": "python",
     "metadata": {},
     "outputs": [],
     "prompt_number": 151
    },
    {
     "cell_type": "code",
     "collapsed": false,
     "input": [
      "def loadURL(url):\n",
      "    return BeautifulSoup(requests.get(url).text)\n",
      "\n",
      "def getRequestURLs(base,query):\n",
      "    #ie return 'http://www.surnamedb.com/Surname?alpha=A'\n",
      "    for char in string.ascii_uppercase: \n",
      "        yield \"\".join([base,query,char])\n",
      "\n",
      "def getSurnames(html):\n",
      "    #Get list of all surnames per one page\n",
      "    surnames = []\n",
      "    for col in html.find_all(id='NamesIndex'):\n",
      "        surnames += [href.text for href in col.find_all('a')]\n",
      "    return surnames\n",
      "\n",
      "def getAllSurnames(base,query):\n",
      "    #Get all surnames for all alphabetical categories\n",
      "    gen,surnames = getRequestURLs(base,query),[]\n",
      "    for url in gen:\n",
      "        surnames += getSurnames(loadURL(url))\n",
      "    return surnames\n",
      "\n",
      "#Write surnames of file\n",
      "surnames = getAllSurnames(base,query)\n",
      "with open('surnamesdb.txt','w') as f:\n",
      "    for name in [i for i in surnames if not len(i)> 40]:\n",
      "        f.writelines(name+\"\\n\")"
     ],
     "language": "python",
     "metadata": {},
     "outputs": []
    },
    {
     "cell_type": "markdown",
     "metadata": {},
     "source": [
      "##Training sentiment classifier"
     ]
    },
    {
     "cell_type": "code",
     "collapsed": false,
     "input": [
      "\"\"\"\n",
      "Dataset: http://thinknook.com/twitter-sentiment-analysis-training-corpus-dataset-2012-09-22/\n",
      "University of Michigan Sentiment Analysis competition on Kaggle\n",
      "Twitter Sentiment Corpus by Niek Sanders\n",
      "\"\"\"\n",
      "\n",
      "tweets = [line.split(',') for line in open(\"SentimentAnalysis Dataset.csv\").readlines()][1:]\n",
      "tweets = [[word_tokenize(tweet[3].lower().decode('utf-8').encode('ascii', 'replace')),'positive' if tweet[1]=='1' else 'negative'] for tweet in tweets]\n",
      "def word_features(words):\n",
      "    return dict([(word,True) for word in words])\n",
      "\n",
      "pairs = [(word_features(tweet[0]),tweet[1]) for tweet in tweets]\n",
      "\n",
      "shuffle(pairs)\n",
      "train = pairs[:int(len(pairs)*.75)]\n",
      "test = pairs[int(len(pairs)*.75):]\n",
      "classifier = NaiveBayesClassifier.train(train)"
     ],
     "language": "python",
     "metadata": {},
     "outputs": [],
     "prompt_number": 23
    },
    {
     "cell_type": "code",
     "collapsed": false,
     "input": [
      "pickle.dump(classifier,open('sentClassifier','w'))"
     ],
     "language": "python",
     "metadata": {},
     "outputs": [],
     "prompt_number": 40
    },
    {
     "cell_type": "code",
     "collapsed": false,
     "input": [
      "print 'accuracy:', nltk.classify.util.accuracy(classifier, test)\n",
      "classifier.show_most_informative_features()"
     ],
     "language": "python",
     "metadata": {},
     "outputs": [
      {
       "output_type": "stream",
       "stream": "stdout",
       "text": [
        "accuracy: "
       ]
      },
      {
       "output_type": "stream",
       "stream": "stdout",
       "text": [
        "0.746065570863\n",
        "Most Informative Features\n",
        "                 me..its = True           positi : negati =     52.5 : 1.0"
       ]
      },
      {
       "output_type": "stream",
       "stream": "stdout",
       "text": [
        "\n",
        "                 unloved = True           negati : positi =     48.4 : 1.0\n",
        "                  farrah = True           negati : positi =     46.3 : 1.0\n",
        "                saddened = True           negati : positi =     46.3 : 1.0\n",
        "                    sadd = True           negati : positi =     44.4 : 1.0\n",
        "                     447 = True           negati : positi =     43.5 : 1.0\n",
        "                   atcha = True           positi : negati =     33.6 : 1.0\n",
        "               gratitude = True           positi : negati =     31.6 : 1.0\n",
        "                 *cries* = True           negati : positi =     31.3 : 1.0\n",
        "                    owie = True           negati : positi =     31.1 : 1.0\n"
       ]
      }
     ],
     "prompt_number": 38
    },
    {
     "cell_type": "code",
     "collapsed": false,
     "input": [
      "def getTokens(text):\n",
      "    return [word.lower().translate(None,string.punctuation) for word in word_tokenize(text)]\n",
      "\n",
      "def containsName(tokens):\n",
      "    for i in tokens:\n",
      "        if i in firstNames or i in surnames:\n",
      "            return True\n",
      "    return False\n",
      "\n",
      "def isDictionaryWord(word):\n",
      "    if not wordnet.synsets(word):\n",
      "        return False\n",
      "    return True\n",
      "\n",
      "def removeNames(names):\n",
      "    return [name for name in names if not isDictionaryWord(name)]\n",
      "\n",
      "def loadNames():\n",
      "    firstNames = [line.strip('\\n').strip(' ').lower() for line in open('firstNames.txt') if line != \"\\n\"] #from census data\n",
      "    #surnames contains duplicates, remove\n",
      "    surnames = [line.strip('\\n').strip(' ').lower() for line in open('surnamesdb.txt') if line != \"\\n\"]\n",
      "    return set(firstNames),set(surnames),len(firstNames),len(surnames)\n",
      "\n",
      "firstNames,surnames,count,countS = loadNames()\n",
      "\n",
      "def hasNegativeSent(text):\n",
      "    #take in raw text, not tokens\n",
      "    return nb_classifier.classify(word_features(text))\n",
      "\n",
      "def hasOffensiveLang():\n",
      "    return\n",
      "\n",
      "def word_features(words):\n",
      "    return dict([(word,True) for word in words])\n",
      "\n",
      "def checkText(text):\n",
      "    #Returns true if should post else false to remove\n",
      "    tokens = getTokens(text)\n",
      "    sent = classifier.classify(word_features(tokens))\n",
      "    named = containsName(tokens)\n",
      "    if named and sent == 'negative':\n",
      "        return False\n",
      "    return True"
     ],
     "language": "python",
     "metadata": {},
     "outputs": [],
     "prompt_number": 53
    },
    {
     "cell_type": "markdown",
     "metadata": {},
     "source": [
      "##Filter Names"
     ]
    },
    {
     "cell_type": "code",
     "collapsed": false,
     "input": [],
     "language": "python",
     "metadata": {},
     "outputs": [],
     "prompt_number": 55
    },
    {
     "cell_type": "code",
     "collapsed": false,
     "input": [],
     "language": "python",
     "metadata": {},
     "outputs": [
      {
       "metadata": {},
       "output_type": "pyout",
       "prompt_number": 52,
       "text": [
        "(True, 'negative')"
       ]
      }
     ],
     "prompt_number": 52
    },
    {
     "cell_type": "code",
     "collapsed": false,
     "input": [],
     "language": "python",
     "metadata": {},
     "outputs": []
    }
   ],
   "metadata": {}
  }
 ]
}